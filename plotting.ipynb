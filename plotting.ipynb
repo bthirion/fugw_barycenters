{
 "cells": [
  {
   "cell_type": "code",
   "execution_count": null,
   "id": "e181a624",
   "metadata": {},
   "outputs": [],
   "source": [
    "from pathlib import Path\n",
    "from nilearn.plotting import plot_surf, view_surf, show\n",
    "from nilearn import datasets\n",
    "\n",
    "output_path = Path(\"/data/parietal/store/data/HCP900/glm/fsaverage5/\")"
   ]
  },
  {
   "cell_type": "code",
   "execution_count": null,
   "id": "9eb6334c",
   "metadata": {},
   "outputs": [],
   "source": [
    "# Fetch the fsaverage5 surface\n",
    "fsaverage5 = datasets.fetch_surf_fsaverage(mesh=\"fsaverage5\")"
   ]
  },
  {
   "cell_type": "code",
   "execution_count": null,
   "id": "4c99e136",
   "metadata": {},
   "outputs": [],
   "source": [
    "# plot data\n",
    "import matplotlib.pyplot as plt\n",
    "from nibabel import load\n",
    "sub = '996782'\n",
    "interest = {\n",
    "    'LANGUAGE': ['MATH-STORY'],\n",
    "    'WM': ['2BK-0BK', 'BODY-AVG', 'PLACE-AVG', 'TOOL-AVG', 'FACE-AVG'],\n",
    "    'EMOTION': ['SHAPES-FACES'],\n",
    "    'SOCIAL': ['TOM-RANDOM'],\n",
    "    'RELATIONAL': ['REL-MATCH'],\n",
    "    'GAMBLING': ['PUNISH-REWARD'],\n",
    "    'MOTOR': ['RH-AVG', 'RF-AVG', 'T-AVG', 'LH-AVG', 'LF-AVG']\n",
    "}\n",
    "hemi = 'left'\n",
    "for task in list(interest.keys())[:1]:\n",
    "    for contrast in interest[task]:\n",
    "        img =  output_path / sub / task / \"level2\" / \"z_maps\" / f\"z_{contrast}_{hemi[0]}h.gii\"\n",
    "        data = load(img).agg_data()\n",
    "        view = view_surf(\n",
    "            fsaverage5[f'pial_{hemi}'],\n",
    "            data,\n",
    "            fsaverage5[f'sulc_{hemi}'],\n",
    "            # hemi=hemi,\n",
    "            # view='lateral',\n",
    "            # engine='matplotlib',\n",
    "            threshold=2.3,\n",
    "            title=contrast\n",
    "        )\n",
    "view"
   ]
  },
  {
   "cell_type": "code",
   "execution_count": null,
   "id": "1f3274c5",
   "metadata": {},
   "outputs": [],
   "source": [
    "# compute an average of the activation maps\n",
    "import glob\n",
    "subjects = sorted(glob.glob(str(output_path / '*')))\n",
    "training_subjects = subjects[:20]                  "
   ]
  },
  {
   "cell_type": "code",
   "execution_count": null,
   "id": "54f128fb",
   "metadata": {},
   "outputs": [],
   "source": [
    "import numpy as np\n",
    "import matplotlib.pyplot as plt\n",
    "fig = plt.figure(figsize=(6, 10))\n",
    "q = 0\n",
    "template = {}\n",
    "# fig, axs = plt.subplots(3, 3, projection='3d')\n",
    "for task in list(interest.keys()):\n",
    "    for contrast in interest[task]:\n",
    "        imgs = [output_path / subject / task / \"level2\" / \"z_maps\" /\\\n",
    "                f\"z_{contrast}_{hemi[0]}h.gii\" for subject in training_subjects]\n",
    "        data = np.mean([load(img).agg_data() for img in imgs], 0)\n",
    "        template[contrast] = data\n",
    "        q += 1\n",
    "        ax = fig.add_subplot(5, 3, q, projection='3d')\n",
    "        plot_surf(\n",
    "            fsaverage5[f'pial_{hemi}'],\n",
    "            data,\n",
    "            fsaverage5[f'sulc_{hemi}'],\n",
    "            hemi=hemi,\n",
    "            view='lateral',\n",
    "            engine='matplotlib',\n",
    "            threshold=3.0,\n",
    "            # title=contrast,\n",
    "            axes=ax\n",
    "        )\n",
    "        ax.set_title(contrast)"
   ]
  },
  {
   "cell_type": "code",
   "execution_count": null,
   "id": "a960f627",
   "metadata": {},
   "outputs": [],
   "source": []
  }
 ],
 "metadata": {
  "kernelspec": {
   "display_name": "Python 3 (ipykernel)",
   "language": "python",
   "name": "python3"
  },
  "language_info": {
   "codemirror_mode": {
    "name": "ipython",
    "version": 3
   },
   "file_extension": ".py",
   "mimetype": "text/x-python",
   "name": "python",
   "nbconvert_exporter": "python",
   "pygments_lexer": "ipython3",
   "version": "3.8.18"
  }
 },
 "nbformat": 4,
 "nbformat_minor": 5
}
